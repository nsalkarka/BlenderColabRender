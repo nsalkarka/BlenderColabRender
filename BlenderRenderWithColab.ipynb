{
  "nbformat": 4,
  "nbformat_minor": 0,
  "metadata": {
    "colab": {
      "private_outputs": true,
      "provenance": [],
      "toc_visible": true,
      "include_colab_link": true
    },
    "kernelspec": {
      "name": "python3",
      "display_name": "Python 3"
    },
    "language_info": {
      "name": "python"
    },
    "accelerator": "GPU"
  },
  "cells": [
    {
      "cell_type": "markdown",
      "metadata": {
        "id": "view-in-github",
        "colab_type": "text"
      },
      "source": [
        "<a href=\"https://colab.research.google.com/github/nsalkarka/BlenderColabRender/blob/main/BlenderRenderWithColab.ipynb\" target=\"_parent\"><img src=\"https://colab.research.google.com/assets/colab-badge.svg\" alt=\"Open In Colab\"/></a>"
      ]
    },
    {
      "cell_type": "code",
      "execution_count": null,
      "metadata": {
        "id": "_6a860kEThmL"
      },
      "outputs": [],
      "source": [
        "#Download Blender from Repository - Run Once unless version changed\n",
        "\n",
        "!wget https://download.blender.org/release/Blender4.2/blender-4.2.1-linux-x64.tar.xz"
      ]
    },
    {
      "cell_type": "code",
      "source": [
        "#Connect Google Drive\n",
        "from google.colab import drive\n",
        "drive.mount('/content/drive')"
      ],
      "metadata": {
        "id": "Zms_5-6uUah8"
      },
      "execution_count": null,
      "outputs": []
    },
    {
      "cell_type": "code",
      "source": [
        "#Copy Blender to gdrive - Run Once unless version changed\n",
        "!cp /content/blender-3.6.2-linux-x64.tar.xz /content/drive/MyDrive/Blender/blender-3.6.2-linux-x64.tar.xz"
      ],
      "metadata": {
        "id": "tjk0Syv0W0qB"
      },
      "execution_count": null,
      "outputs": []
    },
    {
      "cell_type": "code",
      "source": [
        "#Copy Blender back to Colab\n",
        "!cp /content/drive/MyDrive/Blender/blender-3.6.2-linux-x64.tar.xz /content/blender-3.6.2-linux-x64.tar.xz"
      ],
      "metadata": {
        "id": "-sILZcYFXhuF"
      },
      "execution_count": null,
      "outputs": []
    },
    {
      "cell_type": "code",
      "source": [
        "#install Blender\n",
        "!tar xf blender-4.2.1-linux-x64.tar.xz"
      ],
      "metadata": {
        "id": "Lt22vSVxUHP1"
      },
      "execution_count": null,
      "outputs": []
    },
    {
      "cell_type": "code",
      "source": [
        "#set the paths to Blender Files\n",
        "filename = '/content/drive/MyDrive/BlenderOnlineRender/sahne1.blend'"
      ],
      "metadata": {
        "id": "NKsg8A_NUoyL"
      },
      "execution_count": null,
      "outputs": []
    },
    {
      "cell_type": "code",
      "source": [
        "#Render\n",
        "!./blender-4.2.1-linux-x64/blender -b $filename -noaudio -E 'CYCLES' -o '/content/drive/MyDrive/BlenderOnlineRender/Renders/sahne1_'  -s 234 -e 552 -a -F 'PNG' -- --cycles-device CUDA"
      ],
      "metadata": {
        "id": "YOkkTWvTVIlq"
      },
      "execution_count": null,
      "outputs": []
    }
  ]
}